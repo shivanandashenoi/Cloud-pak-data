{
 "cells": [
  {
   "cell_type": "markdown",
   "metadata": {},
   "source": [
    "### Predicting Customer Churn in Telco using XGBoost modeling on Virtualized data"
   ]
  },
  {
   "cell_type": "markdown",
   "metadata": {},
   "source": [
    "### Step 1: Review Use Case"
   ]
  },
  {
   "cell_type": "markdown",
   "metadata": {},
   "source": [
    "The analytics use case implemented in this notebook is telco churn.We virtualized data sets from DB2Warehouse in Cloud and using the same to build a predictive XGBoost model here.\n"
   ]
  },
  {
   "cell_type": "markdown",
   "metadata": {},
   "source": [
    "### Working with Notebooks"
   ]
  },
  {
   "cell_type": "markdown",
   "metadata": {},
   "source": [
    "If you are new to Notebooks, here's a quick overview of how to work in this environment.\n",
    "\n",
    "1. The notebook has 2 types of cells - markdown (text) and code. \n",
    "2. Each cell with code can be executed independently or together (see options under the Cell menu). When working in this notebook, we will be running one cell at a time because we need to make code changes to some of the cells.\n",
    "3. To run the cell, position cursor in the code cell and click the Run (arrow) icon. The cell is running when you see the * next to it. Some cells have printable output.\n",
    "4. Work through this notebook by reading the instructions and executing code cell by cell. Some cells will require modifications before you run them. "
   ]
  },
  {
   "cell_type": "markdown",
   "metadata": {},
   "source": [
    "### Step 2: Load data "
   ]
  },
  {
   "cell_type": "code",
   "execution_count": 63,
   "metadata": {},
   "outputs": [
    {
     "data": {
      "text/html": [
       "<div>\n",
       "<style scoped>\n",
       "    .dataframe tbody tr th:only-of-type {\n",
       "        vertical-align: middle;\n",
       "    }\n",
       "\n",
       "    .dataframe tbody tr th {\n",
       "        vertical-align: top;\n",
       "    }\n",
       "\n",
       "    .dataframe thead th {\n",
       "        text-align: right;\n",
       "    }\n",
       "</style>\n",
       "<table border=\"1\" class=\"dataframe\">\n",
       "  <thead>\n",
       "    <tr style=\"text-align: right;\">\n",
       "      <th></th>\n",
       "      <th>AGE</th>\n",
       "      <th>CAROWNER</th>\n",
       "      <th>CHILDREN</th>\n",
       "      <th>DROPPED</th>\n",
       "      <th>ESTINCOME</th>\n",
       "      <th>GENDER</th>\n",
       "      <th>ID</th>\n",
       "      <th>INTERNATIONAL</th>\n",
       "      <th>LOCAL</th>\n",
       "      <th>LOCALBILLTYPE</th>\n",
       "      <th>LONGDISTANCE</th>\n",
       "      <th>LONGDISTANCEBILLTYPE</th>\n",
       "      <th>PAYMETHOD</th>\n",
       "      <th>PHASE</th>\n",
       "      <th>RATEPLAN</th>\n",
       "      <th>STATUS</th>\n",
       "      <th>USAGE</th>\n",
       "      <th>CHURN</th>\n",
       "    </tr>\n",
       "  </thead>\n",
       "  <tbody>\n",
       "    <tr>\n",
       "      <th>0</th>\n",
       "      <td>47.966667</td>\n",
       "      <td>N</td>\n",
       "      <td>2</td>\n",
       "      <td>0</td>\n",
       "      <td>49745.30</td>\n",
       "      <td>F</td>\n",
       "      <td>3727</td>\n",
       "      <td>0</td>\n",
       "      <td>24</td>\n",
       "      <td>Budget</td>\n",
       "      <td>2</td>\n",
       "      <td>Intnl_discount</td>\n",
       "      <td>CH</td>\n",
       "      <td>Adult</td>\n",
       "      <td>4</td>\n",
       "      <td>M</td>\n",
       "      <td>27</td>\n",
       "      <td>F</td>\n",
       "    </tr>\n",
       "    <tr>\n",
       "      <th>1</th>\n",
       "      <td>34.320000</td>\n",
       "      <td>N</td>\n",
       "      <td>2</td>\n",
       "      <td>0</td>\n",
       "      <td>59613.10</td>\n",
       "      <td>M</td>\n",
       "      <td>3728</td>\n",
       "      <td>0</td>\n",
       "      <td>163</td>\n",
       "      <td>Budget</td>\n",
       "      <td>12</td>\n",
       "      <td>Intnl_discount</td>\n",
       "      <td>CC</td>\n",
       "      <td>Adult</td>\n",
       "      <td>1</td>\n",
       "      <td>M</td>\n",
       "      <td>175</td>\n",
       "      <td>T</td>\n",
       "    </tr>\n",
       "    <tr>\n",
       "      <th>2</th>\n",
       "      <td>13.860000</td>\n",
       "      <td>N</td>\n",
       "      <td>2</td>\n",
       "      <td>0</td>\n",
       "      <td>88427.00</td>\n",
       "      <td>F</td>\n",
       "      <td>3729</td>\n",
       "      <td>4</td>\n",
       "      <td>43</td>\n",
       "      <td>Budget</td>\n",
       "      <td>22</td>\n",
       "      <td>Standard</td>\n",
       "      <td>CC</td>\n",
       "      <td>Child</td>\n",
       "      <td>3</td>\n",
       "      <td>M</td>\n",
       "      <td>69</td>\n",
       "      <td>F</td>\n",
       "    </tr>\n",
       "    <tr>\n",
       "      <th>3</th>\n",
       "      <td>53.693333</td>\n",
       "      <td>N</td>\n",
       "      <td>0</td>\n",
       "      <td>0</td>\n",
       "      <td>89142.70</td>\n",
       "      <td>M</td>\n",
       "      <td>3731</td>\n",
       "      <td>8</td>\n",
       "      <td>5</td>\n",
       "      <td>Budget</td>\n",
       "      <td>3</td>\n",
       "      <td>Intnl_discount</td>\n",
       "      <td>CC</td>\n",
       "      <td>Adult</td>\n",
       "      <td>4</td>\n",
       "      <td>S</td>\n",
       "      <td>16</td>\n",
       "      <td>T</td>\n",
       "    </tr>\n",
       "    <tr>\n",
       "      <th>4</th>\n",
       "      <td>25.440000</td>\n",
       "      <td>Y</td>\n",
       "      <td>2</td>\n",
       "      <td>0</td>\n",
       "      <td>9309.57</td>\n",
       "      <td>F</td>\n",
       "      <td>3742</td>\n",
       "      <td>0</td>\n",
       "      <td>99</td>\n",
       "      <td>FreeLocal</td>\n",
       "      <td>8</td>\n",
       "      <td>Standard</td>\n",
       "      <td>CC</td>\n",
       "      <td>Adult</td>\n",
       "      <td>4</td>\n",
       "      <td>M</td>\n",
       "      <td>108</td>\n",
       "      <td>F</td>\n",
       "    </tr>\n",
       "  </tbody>\n",
       "</table>\n",
       "</div>"
      ],
      "text/plain": [
       "         AGE CAROWNER  CHILDREN  DROPPED  ESTINCOME GENDER    ID  \\\n",
       "0  47.966667        N         2        0   49745.30      F  3727   \n",
       "1  34.320000        N         2        0   59613.10      M  3728   \n",
       "2  13.860000        N         2        0   88427.00      F  3729   \n",
       "3  53.693333        N         0        0   89142.70      M  3731   \n",
       "4  25.440000        Y         2        0    9309.57      F  3742   \n",
       "\n",
       "   INTERNATIONAL  LOCAL LOCALBILLTYPE  LONGDISTANCE LONGDISTANCEBILLTYPE  \\\n",
       "0              0     24        Budget             2       Intnl_discount   \n",
       "1              0    163        Budget            12       Intnl_discount   \n",
       "2              4     43        Budget            22             Standard   \n",
       "3              8      5        Budget             3       Intnl_discount   \n",
       "4              0     99     FreeLocal             8             Standard   \n",
       "\n",
       "  PAYMETHOD  PHASE  RATEPLAN STATUS  USAGE CHURN  \n",
       "0        CH  Adult         4      M     27     F  \n",
       "1        CC  Adult         1      M    175     T  \n",
       "2        CC  Child         3      M     69     F  \n",
       "3        CC  Adult         4      S     16     T  \n",
       "4        CC  Adult         4      M    108     F  "
      ]
     },
     "execution_count": 63,
     "metadata": {},
     "output_type": "execute_result"
    }
   ],
   "source": [
    "# Customer Information\n",
    "from project_lib import Project\n",
    "project = Project.access()\n",
    "USER999_CUSTOMERS_CHURN_INFO_NEW_credentials = project.get_connected_data(name=\"USER999.CUSTOMERS_CHURN_INFO_NEW\")\n",
    "\n",
    "import jaydebeapi, pandas as pd\n",
    "USER999_CUSTOMERS_CHURN_INFO_NEW_connection = jaydebeapi.connect('com.ibm.db2.jcc.DB2Driver',\n",
    "    '{}://{}:{}/{}:user={};password={};'.format('jdbc:db2',\n",
    "    USER999_CUSTOMERS_CHURN_INFO_NEW_credentials['host'],\n",
    "    USER999_CUSTOMERS_CHURN_INFO_NEW_credentials['port'],\n",
    "    USER999_CUSTOMERS_CHURN_INFO_NEW_credentials['database'],\n",
    "    USER999_CUSTOMERS_CHURN_INFO_NEW_credentials['username'],\n",
    "    USER999_CUSTOMERS_CHURN_INFO_NEW_credentials['password']))\n",
    "\n",
    "query = 'SELECT * FROM USER999.CUSTOMERS_CHURN_INFO_NEW'\n",
    "data = pd.read_sql(query, con=USER999_CUSTOMERS_CHURN_INFO_NEW_connection)\n",
    "data.head()\n"
   ]
  },
  {
   "cell_type": "markdown",
   "metadata": {},
   "source": [
    "If the first step ran successfully (you saw the output), then continue reviewing the notebook and running each code cell step by step. Note that not every cell has a visual output. The cell is still running if you see a * in the brackets next to the cell. \n",
    "\n",
    "If the first step didn't finish successfully, check with the instructor. "
   ]
  },
  {
   "cell_type": "markdown",
   "metadata": {},
   "source": [
    "### Step 3: Data Exploration "
   ]
  },
  {
   "cell_type": "code",
   "execution_count": 91,
   "metadata": {},
   "outputs": [
    {
     "data": {
      "image/png": "[encoded data removed]",
      "text/plain": [
       "<Figure size 720x360 with 1 Axes>"
      ]
     },
     "metadata": {
      "needs_background": "light"
     },
     "output_type": "display_data"
    }
   ],
   "source": [
    "from collections import Counter\n",
    "import numpy as np\n",
    "from matplotlib import pyplot as plt\n",
    "\n",
    "from matplotlib import colors as mcolors\n",
    "w = Counter(data['PAYMETHOD'].tolist()).most_common(3)\n",
    "indices = np.arange(len(w))\n",
    "frequency = []\n",
    "word=[]\n",
    "clist = [(0, \"green\"), (0.125, \"blue\"), (0.25, \"yellow\"), (0.5, \"blue\"), \n",
    "         (0.7, \"yellow\"), (0.75, \"purple\"), (1, \"pink\")]\n",
    "rvb = mcolors.LinearSegmentedColormap.from_list(\"\", clist)\n",
    "N = 40\n",
    "x = np.arange(N).astype(float)\n",
    "for i in range(len(w)):\n",
    "  word.append(w[i][0])\n",
    "  frequency.append(w[i][1])\n",
    "plt.figure(figsize=(10,5))\n",
    "plt.bar(indices, frequency,color=rvb(x/N))\n",
    "plt.xticks(indices, word, rotation='vertical',fontsize=10)\n",
    "plt.yticks(fontsize=10)\n",
    "plt.tight_layout()\n",
    "plt.title('Payment Methods for Telco Customers ', fontsize=12)\n",
    "plt.show()"
   ]
  },
  {
   "cell_type": "code",
   "execution_count": 108,
   "metadata": {},
   "outputs": [
    {
     "data": {
      "image/png": "[encoded data removed]",
      "text/plain": [
       "<Figure size 432x288 with 1 Axes>"
      ]
     },
     "metadata": {},
     "output_type": "display_data"
    }
   ],
   "source": [
    "from collections import Counter\n",
    "from matplotlib import pyplot as plt\n",
    "import numpy as np\n",
    "c=Counter(data.GENDER)\n",
    "histo=c.most_common(5)#n=5\n",
    "freq={}\n",
    "for item,count in histo:\n",
    "    freq[item]=count\n",
    "explode = (0.025,0.025)\n",
    "plt.pie([float(v) for v in freq.values()], labels=[(k) for k in freq],autopct='%.2f',startangle=90, pctdistance=0.85, explode = explode,radius=3,textprops={'fontsize': 16})\n",
    "centre_circle = plt.Circle((0,0),0.95,fc='white')\n",
    "fig = plt.gcf()\n",
    "fig.gca().add_artist(centre_circle)\n",
    "# Equal aspect ratio ensures that pie is drawn as a circle\n",
    "#ax1.axis('equal')  \n",
    "plt.tight_layout()\n",
    "plt.suptitle(\"Male vs Female Customers\", bbox={'facecolor':'0.7', 'pad':20})\n",
    "plt.show()\n"
   ]
  },
  {
   "cell_type": "markdown",
   "metadata": {},
   "source": [
    "### Step 4: Encode Categorical Features..\n",
    "Machine learning models are mathematical models and hence we split categorical variables into a range of categories..and assign boolean values..."
   ]
  },
  {
   "cell_type": "code",
   "execution_count": 43,
   "metadata": {},
   "outputs": [],
   "source": [
    "#import Label Encoder\n",
    "from sklearn.preprocessing import LabelEncoder\n",
    "le = LabelEncoder()\n",
    "dummy_columns = [] #array for multiple value columns\n",
    "for column in data.columns:\n",
    "    if data[column].dtype == object and column != 'ID':\n",
    "        if data[column].nunique() == 2:\n",
    "            #apply Label Encoder for binary ones\n",
    "            data[column] = le.fit_transform(data[column]) \n",
    "        else:\n",
    "            dummy_columns.append(column)\n",
    "#apply get dummies for selected columns\n",
    "data = pd.get_dummies(data = data,columns = dummy_columns)"
   ]
  },
  {
   "cell_type": "markdown",
   "metadata": {},
   "source": [
    "### Step 5: Using the virtualized data to create an XGBoost Model.."
   ]
  },
  {
   "cell_type": "code",
   "execution_count": 44,
   "metadata": {},
   "outputs": [
    {
     "name": "stdout",
     "output_type": "stream",
     "text": [
      "Accuracy of XGB classifier on training set: 0.99\n",
      "Accuracy of XGB classifier on test set: 0.98\n"
     ]
    }
   ],
   "source": [
    "from sklearn.model_selection import train_test_split\n",
    "import xgboost as xgb\n",
    "#create feature set and labels\n",
    "X = data.drop(['CHURN','ID'],axis=1)\n",
    "y = data.CHURN\n",
    "#train and test split\n",
    "X_train, X_test, y_train, y_test = train_test_split(X, y, test_size=0.05, random_state=56)\n",
    "#building the model & printing the score\n",
    "xgb_model = xgb.XGBClassifier(max_depth=5, learning_rate=0.08, objective= 'binary:logistic',n_jobs=-1).fit(X_train, y_train)\n",
    "print('Accuracy of XGB classifier on training set: {:.2f}'\n",
    "       .format(xgb_model.score(X_train, y_train)))\n",
    "print('Accuracy of XGB classifier on test set: {:.2f}'\n",
    "       .format(xgb_model.score(X_test[X_train.columns], y_test)))"
   ]
  },
  {
   "cell_type": "code",
   "execution_count": 45,
   "metadata": {},
   "outputs": [
    {
     "data": {
      "text/plain": [
       "array([0, 1, 1, 0, 1, 0, 0, 1, 0, 1, 0, 0, 0, 1, 0, 0, 0, 0, 0, 0, 0, 1,\n",
       "       1, 1, 0, 1, 1, 1, 0, 0, 0, 1, 0, 0, 1, 0, 0, 0, 1, 0, 0, 0, 0, 0,\n",
       "       0, 0, 1, 0, 0, 0, 0, 0, 0, 1, 1, 0, 1, 0, 1, 0, 1, 0, 0, 1, 0, 1,\n",
       "       0, 1, 1, 1, 0, 1, 0, 1, 1, 0, 0, 1, 0, 0, 0, 0, 0, 1, 1, 1, 0, 0,\n",
       "       0, 0, 1, 0, 1, 0, 1, 0, 0, 0, 0, 1, 0, 0, 0, 1])"
      ]
     },
     "execution_count": 45,
     "metadata": {},
     "output_type": "execute_result"
    }
   ],
   "source": [
    "result=xgb_model.predict(X_test)\n",
    "result"
   ]
  },
  {
   "cell_type": "code",
   "execution_count": 48,
   "metadata": {},
   "outputs": [
    {
     "name": "stdout",
     "output_type": "stream",
     "text": [
      "              precision    recall  f1-score   support\n",
      "\n",
      "           0       1.00      0.97      0.99        68\n",
      "           1       0.95      1.00      0.97        36\n",
      "\n",
      "   micro avg       0.98      0.98      0.98       104\n",
      "   macro avg       0.97      0.99      0.98       104\n",
      "weighted avg       0.98      0.98      0.98       104\n",
      "\n"
     ]
    }
   ],
   "source": [
    "from sklearn.metrics  import classification_report\n",
    "print(classification_report(y_test, result))"
   ]
  },
  {
   "cell_type": "markdown",
   "metadata": {},
   "source": [
    "### Step 6: Feature Importances "
   ]
  },
  {
   "cell_type": "code",
   "execution_count": 90,
   "metadata": {},
   "outputs": [
    {
     "data": {
      "text/plain": [
       "<matplotlib.axes._subplots.AxesSubplot at 0x7f5d26a0c400>"
      ]
     },
     "execution_count": 90,
     "metadata": {},
     "output_type": "execute_result"
    },
    {
     "data": {
      "image/png": "[encoded data removed]",
      "text/plain": [
       "<Figure size 720x576 with 1 Axes>"
      ]
     },
     "metadata": {
      "needs_background": "light"
     },
     "output_type": "display_data"
    }
   ],
   "source": [
    "import matplotlib.pyplot as plt\n",
    "from xgboost import plot_importance\n",
    "fig, ax = plt.subplots(figsize=(10,8))\n",
    "plot_importance(xgb_model, ax=ax)\n",
    "\n",
    "\n",
    "\n"
   ]
  },
  {
   "cell_type": "markdown",
   "metadata": {},
   "source": [
    "### F Score - This is a metric that simply sums up how many times each feature is split on. It is analogous to the Frequency metric in the R version.https://cran.r-project.org/web/packages/xgboost/xgboost.pdf\n",
    "\n",
    "It is about as basic a feature importance metric as you can get.\n",
    "\n",
    "i.e. How many times was this variable split on?\n",
    "\n",
    "The code for this method shows it is simply adding of the presence of a given feature in all the trees.\n",
    "\n",
    "[here..https://github.com/dmlc/xgboost/blob/master/python-package/xgboost/core.py#L953][1]"
   ]
  },
  {
   "cell_type": "markdown",
   "metadata": {},
   "source": [
    "We have finished building and testing a predictive model. The next step is to deploy it for real time scoring. "
   ]
  },
  {
   "cell_type": "markdown",
   "metadata": {},
   "source": [
    "# Deploying a ML model ito the CPD platform is beyond the scope of this workshop..\n"
   ]
  },
  {
   "cell_type": "markdown",
   "metadata": {},
   "source": [
    "### Summary"
   ]
  },
  {
   "cell_type": "markdown",
   "metadata": {},
   "source": [
    "You have finished working on this hands-on lab. In this notebook you used virtualized data to create a predictive telco churn XGBoost ML model."
   ]
  }
 ],
 "metadata": {
  "kernelspec": {
   "display_name": "Python 3.6",
   "language": "python",
   "name": "python3"
  },
  "language_info": {
   "codemirror_mode": {
    "name": "ipython",
    "version": 3
   },
   "file_extension": ".py",
   "mimetype": "text/x-python",
   "name": "python",
   "nbconvert_exporter": "python",
   "pygments_lexer": "ipython3",
   "version": "3.6.8"
  }
 },
 "nbformat": 4,
 "nbformat_minor": 1
}
